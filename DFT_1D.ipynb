{
 "cells": [
  {
   "cell_type": "markdown",
   "metadata": {},
   "source": [
    "# DFT for one dimensional systems"
   ]
  },
  {
   "cell_type": "markdown",
   "metadata": {},
   "source": [
    "There are many implementations of DFT around, e.g. abint, Vasp, .... But all of these codes are very cumbersome to understand, because there is a lot of functionality implemented. The problem is that, in learning DFT this is an overwhelming amount of information, hard to process for newcomers. This is why often these codes are used like a black box. (Which may lead to errors in using the code.) Here we want to present a very simple implementation, which introduces already the basic variables. This notebook shows the full implementation of DFT, which aims to be as short (and readable) as possible. \n",
    "Since it is interactive, the reader sees at any step what is going on. Furthermore the code invites to play around."
   ]
  },
  {
   "cell_type": "markdown",
   "metadata": {},
   "source": [
    "## Setting the scene: loading libaries and defining input parameters"
   ]
  },
  {
   "cell_type": "code",
   "execution_count": 1,
   "metadata": {},
   "outputs": [],
   "source": [
    "%matplotlib inline\n",
    "import numpy as np\n",
    "from numpy import linalg as LA\n",
    "import matplotlib.pyplot as plt\n",
    "from scipy.fftpack import fft, ifft\n",
    "from scipy.special import erfcx"
   ]
  },
  {
   "cell_type": "code",
   "execution_count": 2,
   "metadata": {},
   "outputs": [],
   "source": [
    "neuc = 1  # number of electrons\n",
    "rs = 1    # average rs value \n",
    "nG = 20   # number of G vectors \n",
    "nk = 40   # number of k vectors, should be multiple of 4 \n",
    "nB = 10   # number of bands\n",
    "kT=0.001  # Temperature for FD distribution in Ry"
   ]
  },
  {
   "cell_type": "code",
   "execution_count": 3,
   "metadata": {},
   "outputs": [],
   "source": [
    "a=2*neuc     # length of the unit cell\n",
    "ne=neuc*nk   # number of electrons in the \"super cell\"\n",
    "kF=np.pi/4   # the Fermi wave vector corresponding to the mean density of the system\n",
    "rho0=neuc/a  # mean density\n",
    "deltaG=2*np.pi/a          # reciprocal lattice \n",
    "x=np.arange(0,a,a/nG)     # real space grid\n",
    "kvec=np.arange(-deltaG*(1./2.-1./nk),deltaG/2+0.000001,deltaG/nk)   # k-point mesh\n",
    "Gtemp=np.arange(0,nG,1)   \n",
    "G=((Gtemp+nG/2)%nG-nG/2)*deltaG   # reciprocal lattice grid"
   ]
  },
  {
   "cell_type": "code",
   "execution_count": 4,
   "metadata": {},
   "outputs": [],
   "source": [
    "def FFT(x):\n",
    "    \"The fourier transform(gives real valued results if symetric)\"\n",
    "    tmp=fft(x)/nG\n",
    "    if abs(np.imag(tmp)).max()<1e-10:\n",
    "        res=np.real(tmp)\n",
    "    else:\n",
    "        #print(\"large imaginary part\")\n",
    "        res=tmp        \n",
    "    return res"
   ]
  },
  {
   "cell_type": "code",
   "execution_count": 5,
   "metadata": {},
   "outputs": [],
   "source": [
    "def IFFT(x):\n",
    "    \"The inverse fourier transform(gives real valued results if symetric)\"\n",
    "    tmp=ifft(x)*nG\n",
    "    if abs(np.imag(tmp)).max()<1e-10:\n",
    "        res=np.real(tmp)\n",
    "    else:\n",
    "        #print(\"large imaginary part\")\n",
    "        res=tmp        \n",
    "    return res"
   ]
  },
  {
   "cell_type": "code",
   "execution_count": 6,
   "metadata": {},
   "outputs": [],
   "source": [
    "Vext=np.exp(1j*x*deltaG)+np.exp(-1j*x*deltaG)"
   ]
  },
  {
   "cell_type": "code",
   "execution_count": 7,
   "metadata": {},
   "outputs": [],
   "source": [
    "VextG=FFT(Vext)"
   ]
  },
  {
   "cell_type": "markdown",
   "metadata": {},
   "source": [
    "## Solving the noninteracting Schroedinger equation"
   ]
  },
  {
   "cell_type": "code",
   "execution_count": 8,
   "metadata": {},
   "outputs": [],
   "source": [
    "def kin(k):\n",
    "    \"The kinetic energy array (for all G vectors) for a certain k-point k\"\n",
    "    res=np.diag((k+G)**2/rs**2)\n",
    "    return res"
   ]
  },
  {
   "cell_type": "code",
   "execution_count": 9,
   "metadata": {},
   "outputs": [],
   "source": [
    "def Vmat(V):\n",
    "    \"Creates the potential matrix in momentum space\"\n",
    "    tmp=np.zeros((nG,nG))\n",
    "    tmp=tmp+np.diag(np.ones(nG)*V[[0]])\n",
    "    for i in range(1,nG):\n",
    "        tmp=tmp+np.diag(np.ones(nG-i)*V[nG-i],i)\n",
    "        tmp=tmp+np.diag(np.ones(nG-i)*V[i],-i)\n",
    "    return tmp"
   ]
  },
  {
   "cell_type": "code",
   "execution_count": 10,
   "metadata": {
    "scrolled": true
   },
   "outputs": [],
   "source": [
    "Vin=Vmat(VextG)"
   ]
  },
  {
   "cell_type": "code",
   "execution_count": 11,
   "metadata": {},
   "outputs": [],
   "source": [
    "eign,v=LA.eig(kin(0)+1*Vin)"
   ]
  },
  {
   "cell_type": "code",
   "execution_count": 12,
   "metadata": {},
   "outputs": [],
   "source": [
    "def schroed(V):\n",
    "    \"solves the non interacting Schroedinger equation in momentum space\"\n",
    "    bandst=np.empty((nk,nB))\n",
    "    wfk=np.empty((nk,nG,nB),dtype=complex)\n",
    "    #wfk=np.array(wfk,dtype=complex)\n",
    "    for i in range(nk):\n",
    "        eig,v=LA.eigh(kin(kvec[i])+V)\n",
    "        bandst[i]=eig[0:nB]\n",
    "        wfk[i]=v[:,0:nB]\n",
    "        \n",
    "    return bandst, wfk"
   ]
  },
  {
   "cell_type": "code",
   "execution_count": 13,
   "metadata": {},
   "outputs": [],
   "source": [
    "bandst,wfk=schroed(Vin)"
   ]
  },
  {
   "cell_type": "markdown",
   "metadata": {},
   "source": [
    "we have to guess the Fermi level. This is done in a heuristic way"
   ]
  },
  {
   "cell_type": "code",
   "execution_count": 14,
   "metadata": {},
   "outputs": [
    {
     "name": "stdout",
     "output_type": "stream",
     "text": [
      "0.356639178735\n",
      "0 10.0\n"
     ]
    }
   ],
   "source": [
    "if neuc%2==1:\n",
    "    fband=int((neuc+1)/2)-1\n",
    "    fermilevel=bandst[int(nk/4)-1,fband]   #nk should be a multiple of 4\n",
    "    print(fermilevel)\n",
    "    print(fband,nk/4)\n",
    "else:\n",
    "    fband=int(neuc/2)-1\n",
    "    fermilevel=0.5*(bandst[:,fband].max() + bandst[:,fband+1].min() )\n",
    "    print(fermilevel)\n",
    "    print(fband,nk/4)"
   ]
  },
  {
   "cell_type": "code",
   "execution_count": 15,
   "metadata": {},
   "outputs": [],
   "source": [
    "def occupation(eigenvalue):\n",
    "    \"calculates occupation numbers\"\n",
    "    if (eigenvalue-fermilevel)/kT>20:\n",
    "        res=0.\n",
    "    elif (eigenvalue-fermilevel)/kT<-20:\n",
    "        res=1.\n",
    "    elif -20<(eigenvalue-fermilevel)/kT < 20:\n",
    "        res=1/(np.exp((eigenvalue-fermilevel)/kT)+1)\n",
    "\n",
    "    return res"
   ]
  },
  {
   "cell_type": "code",
   "execution_count": 16,
   "metadata": {},
   "outputs": [],
   "source": [
    "occ=np.empty((nk,nB))"
   ]
  },
  {
   "cell_type": "code",
   "execution_count": 17,
   "metadata": {},
   "outputs": [],
   "source": [
    "for ik in range(nk):\n",
    "    for jn in range(nB):\n",
    "        occ[ik,jn]=2*occupation(bandst[ik,jn])"
   ]
  },
  {
   "cell_type": "markdown",
   "metadata": {},
   "source": [
    "The next is to check whether the fermilevel has been choosen properly. If so the resulting number should be close to zero."
   ]
  },
  {
   "cell_type": "code",
   "execution_count": 18,
   "metadata": {},
   "outputs": [
    {
     "data": {
      "text/plain": [
       "2.8421709430404007e-14"
      ]
     },
     "execution_count": 18,
     "metadata": {},
     "output_type": "execute_result"
    }
   ],
   "source": [
    "sum=0.\n",
    "for ik in range(nk):\n",
    "    for jn in range(nB):\n",
    "        sum=sum+occ[ik,jn]\n",
    "sum-ne"
   ]
  },
  {
   "cell_type": "code",
   "execution_count": 19,
   "metadata": {},
   "outputs": [],
   "source": [
    "def calc_rho(occ,wfk):\n",
    "    rho=np.zeros(nG)\n",
    "    for ik in range(nk):\n",
    "        for jn in range(nB):\n",
    "            rho=rho+2*occ[ik,jn]*np.abs(IFFT(wfk[ik,:,jn]))**2\n",
    "    rho=rho/a/nk/2   #prefactor not yet clear\n",
    "    return rho"
   ]
  },
  {
   "cell_type": "code",
   "execution_count": 20,
   "metadata": {},
   "outputs": [
    {
     "data": {
      "text/plain": [
       "array([ 0.3029704 ,  0.31051928,  0.33313723,  0.37053922,  0.42163216,\n",
       "        0.4837664 ,  0.55208778,  0.61939758,  0.67688214,  0.71577751,\n",
       "        0.72955096,  0.71577751,  0.67688214,  0.61939758,  0.55208778,\n",
       "        0.4837664 ,  0.42163216,  0.37053922,  0.33313723,  0.31051928])"
      ]
     },
     "execution_count": 20,
     "metadata": {},
     "output_type": "execute_result"
    }
   ],
   "source": [
    "rho=calc_rho(occ,wfk)\n",
    "rho"
   ]
  },
  {
   "cell_type": "code",
   "execution_count": 21,
   "metadata": {},
   "outputs": [
    {
     "data": {
      "text/plain": [
       "<matplotlib.text.Text at 0x7fdbc8c27080>"
      ]
     },
     "execution_count": 21,
     "metadata": {},
     "output_type": "execute_result"
    },
    {
     "data": {
      "image/png": "[encoded data removed]",
      "text/plain": [
       "<matplotlib.figure.Figure at 0x7fdbc8bf2e80>"
      ]
     },
     "metadata": {},
     "output_type": "display_data"
    }
   ],
   "source": [
    "plt.plot(kvec,bandst[:,0:2],\"d\")\n",
    "plt.xlabel(\"k\")\n",
    "plt.ylabel(\"Energy\")"
   ]
  },
  {
   "cell_type": "code",
   "execution_count": 22,
   "metadata": {},
   "outputs": [
    {
     "data": {
      "text/plain": [
       "<matplotlib.text.Text at 0x7f58fdb31f98>"
      ]
     },
     "execution_count": 22,
     "metadata": {},
     "output_type": "execute_result"
    },
    {
     "data": {
      "image/png": "[encoded data removed]",
      "text/plain": [
       "<matplotlib.figure.Figure at 0x7f58fdbe62b0>"
      ]
     },
     "metadata": {},
     "output_type": "display_data"
    }
   ],
   "source": [
    "plt.plot(x,rho,\"d\")\n",
    "plt.xlabel(\"x/(rs a0)\")\n",
    "plt.ylabel(\"rho\")"
   ]
  },
  {
   "cell_type": "markdown",
   "metadata": {},
   "source": [
    "## Calculating the exchange correlation potential"
   ]
  },
  {
   "cell_type": "markdown",
   "metadata": {},
   "source": [
    "The exchange and correlation energy are defined with respect to an interaction. In 1D the use of the bare Coulomb interaction is not a good idea. A physically motivated interaction is that of electrons in an harmonic trap. In order, for the 1D limit to be valid, the first excited states perpenticular to the wire has to be well separated from the ground state. A potential derived from this model is widely used in the literature (M. Casula, Asgari).\n",
    "b ...  is a parameter which d"
   ]
  },
  {
   "cell_type": "code",
   "execution_count": 23,
   "metadata": {},
   "outputs": [],
   "source": [
    "def v(r,rs):\n",
    "    b=0.1/rs\n",
    "    #res=np.exp(r**2/4/b**2)*erfc(abs(r)/2/b)* np.sqrt(np.pi)/b/rs\n",
    "    res=erfcx(abs(r)/2/b)* np.sqrt(np.pi)/b/rs\n",
    "    return res"
   ]
  },
  {
   "cell_type": "code",
   "execution_count": 24,
   "metadata": {},
   "outputs": [
    {
     "data": {
      "text/plain": [
       "<matplotlib.text.Text at 0x7f58fdb8ca20>"
      ]
     },
     "execution_count": 24,
     "metadata": {},
     "output_type": "execute_result"
    },
    {
     "data": {
      "image/png": "[encoded data removed]",
      "text/plain": [
       "<matplotlib.figure.Figure at 0x7f58fdb48d30>"
      ]
     },
     "metadata": {},
     "output_type": "display_data"
    }
   ],
   "source": [
    "plt.plot(x,v(x,rs),\"d\")\n",
    "plt.xlabel(\"x/(rs a0)\")\n",
    "plt.ylabel(\"v\")"
   ]
  },
  {
   "cell_type": "code",
   "execution_count": 25,
   "metadata": {},
   "outputs": [],
   "source": [
    "def vper(r):\n",
    "    res=v(r,rs)+v(r+a*nk,rs)+v(r-a*nk,rs)\n",
    "    return res"
   ]
  },
  {
   "cell_type": "markdown",
   "metadata": {},
   "source": [
    "### The correlation energy"
   ]
  },
  {
   "cell_type": "code",
   "execution_count": 26,
   "metadata": {},
   "outputs": [],
   "source": [
    "A = 4.66\n",
    "B = 2.092\n",
    "C = 3.735\n",
    "n = 1.379\n",
    "alpha = 23.63\n",
    "beta = 109.9\n",
    "m = 1.837"
   ]
  },
  {
   "cell_type": "code",
   "execution_count": 27,
   "metadata": {},
   "outputs": [],
   "source": [
    "def ec(rs):\n",
    "    res=-(rs/(A + B*rs**n + C*rs**2)) * np.log(1 + alpha*rs + beta*rs**m)\n",
    "    return res"
   ]
  },
  {
   "cell_type": "code",
   "execution_count": 28,
   "metadata": {},
   "outputs": [],
   "source": [
    "from scipy.interpolate import interp1d"
   ]
  },
  {
   "cell_type": "code",
   "execution_count": 29,
   "metadata": {},
   "outputs": [],
   "source": [
    "drs=0.1\n",
    "rs_array=np.arange(drs,40,drs)\n",
    "vc_array=np.diff(ec(rs_array-0.05))/drs\n",
    "rs_array=rs_array[0:-1]\n",
    "vc=interp1d(rs_array,vc_array, kind='cubic')"
   ]
  },
  {
   "cell_type": "code",
   "execution_count": 30,
   "metadata": {
    "scrolled": false
   },
   "outputs": [
    {
     "data": {
      "text/plain": [
       "[<matplotlib.lines.Line2D at 0x7f58fb68d550>,\n",
       " <matplotlib.lines.Line2D at 0x7f58fb68d710>]"
      ]
     },
     "execution_count": 30,
     "metadata": {},
     "output_type": "execute_result"
    },
    {
     "data": {
      "image/png": "[encoded data removed]",
      "text/plain": [
       "<matplotlib.figure.Figure at 0x7f58fb8d7e10>"
      ]
     },
     "metadata": {},
     "output_type": "display_data"
    }
   ],
   "source": [
    "plt.plot(rs_array,ec(rs_array),\"-\",rs_array,vc(rs_array),\"--\")"
   ]
  },
  {
   "cell_type": "markdown",
   "metadata": {},
   "source": [
    "### Exchange energy"
   ]
  },
  {
   "cell_type": "code",
   "execution_count": 31,
   "metadata": {},
   "outputs": [],
   "source": [
    "rs_array=np.arange(drs,40,drs)\n",
    "dx=0.001\n",
    "xint=np.arange(dx,25,dx)\n",
    "ex_vec=np.zeros(rs_array.size)\n",
    "i=0\n",
    "for rs_tmp in rs_array:\n",
    "    ex_vec[i]=-0.5*np.sum(0.5*np.sinc(kF*xint/np.pi)**2*v(xint,rs_tmp))*dx\n",
    "    i=i+1"
   ]
  },
  {
   "cell_type": "code",
   "execution_count": 32,
   "metadata": {},
   "outputs": [],
   "source": [
    "vx_array=np.diff(ex_vec)/drs\n",
    "rs_array=rs_array[0:-1]\n",
    "vx=interp1d(rs_array,vx_array, kind='cubic')\n",
    "ex=interp1d(rs_array,ex_vec[0:-1], kind='cubic')"
   ]
  },
  {
   "cell_type": "code",
   "execution_count": 33,
   "metadata": {},
   "outputs": [
    {
     "data": {
      "text/plain": [
       "[<matplotlib.lines.Line2D at 0x7f58fb60c358>,\n",
       " <matplotlib.lines.Line2D at 0x7f58fb60c518>]"
      ]
     },
     "execution_count": 33,
     "metadata": {},
     "output_type": "execute_result"
    },
    {
     "data": {
      "image/png": "[encoded data removed]",
      "text/plain": [
       "<matplotlib.figure.Figure at 0x7f58fb8d7da0>"
      ]
     },
     "metadata": {},
     "output_type": "display_data"
    }
   ],
   "source": [
    "plt.plot(rs_array,ex_vec[0:-1],\"-\",rs_array,vx(rs_array),\"--\")"
   ]
  },
  {
   "cell_type": "code",
   "execution_count": 34,
   "metadata": {},
   "outputs": [
    {
     "data": {
      "text/plain": [
       "[<matplotlib.lines.Line2D at 0x7f58fb5e9f98>]"
      ]
     },
     "execution_count": 34,
     "metadata": {},
     "output_type": "execute_result"
    },
    {
     "data": {
      "image/png": "[encoded data removed]",
      "text/plain": [
       "<matplotlib.figure.Figure at 0x7f58fb61ba90>"
      ]
     },
     "metadata": {},
     "output_type": "display_data"
    }
   ],
   "source": [
    "plt.plot(rs_array,ec(rs_array)/ex_vec[0:-1])"
   ]
  },
  {
   "cell_type": "markdown",
   "metadata": {},
   "source": [
    "## The DFT selfconsistency loop"
   ]
  },
  {
   "cell_type": "markdown",
   "metadata": {},
   "source": [
    "We are nearly finished. Now we collect everything and calculate the selfconsistent density. First we calculate the exchange correlation potential"
   ]
  },
  {
   "cell_type": "code",
   "execution_count": 35,
   "metadata": {},
   "outputs": [],
   "source": [
    "def rs_rho(rho):\n",
    "    res=rs/2/rho\n",
    "    return res"
   ]
  },
  {
   "cell_type": "code",
   "execution_count": 36,
   "metadata": {},
   "outputs": [],
   "source": [
    "Vxc=ex(rs_rho(rho))-vx(rs_rho(rho))*rs/rho/2 + ec(rs_rho(rho))-vc(rs_rho(rho))*rs/rho/2"
   ]
  },
  {
   "cell_type": "code",
   "execution_count": 37,
   "metadata": {
    "scrolled": true
   },
   "outputs": [
    {
     "data": {
      "text/plain": [
       "[<matplotlib.lines.Line2D at 0x7f58fb55f240>,\n",
       " <matplotlib.lines.Line2D at 0x7f58fb55f400>]"
      ]
     },
     "execution_count": 37,
     "metadata": {},
     "output_type": "execute_result"
    },
    {
     "data": {
      "image/png": "[encoded data removed]",
      "text/plain": [
       "<matplotlib.figure.Figure at 0x7f58fb594d68>"
      ]
     },
     "metadata": {},
     "output_type": "display_data"
    }
   ],
   "source": [
    "plt.plot(Vxc,\"-\",np.real(Vext),\"--\")"
   ]
  },
  {
   "cell_type": "code",
   "execution_count": 38,
   "metadata": {},
   "outputs": [],
   "source": [
    "def VH(rho):\n",
    "    \"calculate the Hartree potential\"\n",
    "    res=np.zeros(nG)\n",
    "    for ix in range(nG):\n",
    "        for ixp in np.arange(-nG*nk/2,nG*nk/2):\n",
    "            res[ix]=res[ix]+rho[int((ix-ixp)%nG)]*vper(ixp*a/nG)\n",
    "    res=res*a/nG\n",
    "    return res"
   ]
  },
  {
   "cell_type": "code",
   "execution_count": 39,
   "metadata": {},
   "outputs": [
    {
     "data": {
      "text/plain": [
       "[<matplotlib.lines.Line2D at 0x7f58fb4c32e8>]"
      ]
     },
     "execution_count": 39,
     "metadata": {},
     "output_type": "execute_result"
    },
    {
     "data": {
      "image/png": "[encoded data removed]",
      "text/plain": [
       "<matplotlib.figure.Figure at 0x7f58fb5abd68>"
      ]
     },
     "metadata": {},
     "output_type": "display_data"
    }
   ],
   "source": [
    "plt.plot(VH(rho),\"-\")"
   ]
  },
  {
   "cell_type": "code",
   "execution_count": 40,
   "metadata": {},
   "outputs": [],
   "source": [
    "Vin=Vmat(VextG+FFT(VH(rho)+Vxc))"
   ]
  },
  {
   "cell_type": "code",
   "execution_count": 41,
   "metadata": {},
   "outputs": [],
   "source": [
    "rho_old=rho"
   ]
  },
  {
   "cell_type": "markdown",
   "metadata": {},
   "source": [
    "In the selfconsistenty cycle we need a mixing parameter in order to converge the result."
   ]
  },
  {
   "cell_type": "code",
   "execution_count": 42,
   "metadata": {},
   "outputs": [],
   "source": [
    "residual=np.array([1])\n",
    "nmax=15\n",
    "mix=0.4\n",
    "rho_all=np.zeros((nmax+1,nG))\n",
    "rho_all[0]=rho\n",
    "i=0\n",
    "while (residual[-1] >5e-4 and i<nmax):\n",
    "    bandst,wfk=schroed(Vin)\n",
    "    rho=rho*(1-mix)+mix*calc_rho(occ,wfk)\n",
    "    Vxc=ex(rs_rho(rho))+rho*vx(rs_rho(rho)) + ec(rs_rho(rho))+rho*vc(rs_rho(rho))\n",
    "    Vin=Vmat(VextG+FFT(VH(rho)+Vxc))\n",
    "    i=i+1\n",
    "    residual=np.append(residual,np.sum(np.abs(rho-rho_all[i-1]))/nG)\n",
    "    rho_all[i]=rho"
   ]
  },
  {
   "cell_type": "code",
   "execution_count": 44,
   "metadata": {},
   "outputs": [
    {
     "data": {
      "text/plain": [
       "array([  1.00000000e+00,   1.20684873e-02,   1.67550595e-02,\n",
       "         6.99432727e-03,   2.93009406e-03,   1.22958768e-03,\n",
       "         5.16427941e-04,   2.17015024e-04])"
      ]
     },
     "execution_count": 44,
     "metadata": {},
     "output_type": "execute_result"
    }
   ],
   "source": [
    "residual"
   ]
  },
  {
   "cell_type": "code",
   "execution_count": 45,
   "metadata": {},
   "outputs": [
    {
     "data": {
      "text/plain": [
       "[<matplotlib.lines.Line2D at 0x7f58fb49cf28>,\n",
       " <matplotlib.lines.Line2D at 0x7f58fb4a1128>]"
      ]
     },
     "execution_count": 45,
     "metadata": {},
     "output_type": "execute_result"
    },
    {
     "data": {
      "image/png": "[encoded data removed]",
      "text/plain": [
       "<matplotlib.figure.Figure at 0x7f58fb4d0320>"
      ]
     },
     "metadata": {},
     "output_type": "display_data"
    }
   ],
   "source": [
    "plt.plot(rho,\"-\",rho_old,'x')"
   ]
  },
  {
   "cell_type": "code",
   "execution_count": 46,
   "metadata": {},
   "outputs": [
    {
     "data": {
      "text/plain": [
       "[<matplotlib.lines.Line2D at 0x7f58fb406240>,\n",
       " <matplotlib.lines.Line2D at 0x7f58fb406400>,\n",
       " <matplotlib.lines.Line2D at 0x7f58fb4066a0>,\n",
       " <matplotlib.lines.Line2D at 0x7f58fb406898>,\n",
       " <matplotlib.lines.Line2D at 0x7f58fb406a90>,\n",
       " <matplotlib.lines.Line2D at 0x7f58fb406c88>,\n",
       " <matplotlib.lines.Line2D at 0x7f58fb406e80>,\n",
       " <matplotlib.lines.Line2D at 0x7f58fb45a1d0>,\n",
       " <matplotlib.lines.Line2D at 0x7f58fb4092b0>,\n",
       " <matplotlib.lines.Line2D at 0x7f58fb4094a8>,\n",
       " <matplotlib.lines.Line2D at 0x7f58fb4096a0>,\n",
       " <matplotlib.lines.Line2D at 0x7f58fb409898>,\n",
       " <matplotlib.lines.Line2D at 0x7f58fb409a90>,\n",
       " <matplotlib.lines.Line2D at 0x7f58fb409c88>,\n",
       " <matplotlib.lines.Line2D at 0x7f58fb4090b8>,\n",
       " <matplotlib.lines.Line2D at 0x7f58fb40e0b8>]"
      ]
     },
     "execution_count": 46,
     "metadata": {},
     "output_type": "execute_result"
    },
    {
     "data": {
      "image/png": "[encoded data removed]",
      "text/plain": [
       "<matplotlib.figure.Figure at 0x7f58fb4404e0>"
      ]
     },
     "metadata": {},
     "output_type": "display_data"
    }
   ],
   "source": [
    "plt.plot(rho_all.T)"
   ]
  },
  {
   "cell_type": "markdown",
   "metadata": {},
   "source": [
    "## Playground from here on"
   ]
  },
  {
   "cell_type": "code",
   "execution_count": 47,
   "metadata": {},
   "outputs": [],
   "source": [
    "Vext=6*np.array([1,1,1,1,0,0,0,0,0,0,0,0,0,0,0,1,1,1,1,1])"
   ]
  },
  {
   "cell_type": "code",
   "execution_count": 48,
   "metadata": {},
   "outputs": [
    {
     "data": {
      "text/plain": [
       "[<matplotlib.lines.Line2D at 0x7f58fb3985c0>,\n",
       " <matplotlib.lines.Line2D at 0x7f58fb398f98>,\n",
       " <matplotlib.lines.Line2D at 0x7f58fb39d0f0>]"
      ]
     },
     "execution_count": 48,
     "metadata": {},
     "output_type": "execute_result"
    },
    {
     "data": {
      "image/png": "[encoded data removed]",
      "text/plain": [
       "<matplotlib.figure.Figure at 0x7f58fb3ca4e0>"
      ]
     },
     "metadata": {},
     "output_type": "display_data"
    }
   ],
   "source": [
    "plt.plot(Vext,\"-\",np.imag(VextG),\"-\",3*rho,\"--\")"
   ]
  },
  {
   "cell_type": "code",
   "execution_count": 48,
   "metadata": {},
   "outputs": [],
   "source": [
    "VextG=FFT(Vext)"
   ]
  },
  {
   "cell_type": "code",
   "execution_count": 49,
   "metadata": {},
   "outputs": [
    {
     "data": {
      "text/plain": [
       "[<matplotlib.lines.Line2D at 0x7fe91489ba90>,\n",
       " <matplotlib.lines.Line2D at 0x7fe91489bd30>]"
      ]
     },
     "execution_count": 49,
     "metadata": {},
     "output_type": "execute_result"
    },
    {
     "data": {
      "image/png": "[encoded data removed]",
      "text/plain": [
       "<matplotlib.figure.Figure at 0x7fe9148d7c18>"
      ]
     },
     "metadata": {},
     "output_type": "display_data"
    }
   ],
   "source": [
    "plt.plot(bandst[:,0:2],\"d\")"
   ]
  },
  {
   "cell_type": "code",
   "execution_count": null,
   "metadata": {},
   "outputs": [],
   "source": []
  }
 ],
 "metadata": {
  "kernelspec": {
   "display_name": "Python 3",
   "language": "python",
   "name": "python3"
  },
  "language_info": {
   "codemirror_mode": {
    "name": "ipython",
    "version": 3
   },
   "file_extension": ".py",
   "mimetype": "text/x-python",
   "name": "python",
   "nbconvert_exporter": "python",
   "pygments_lexer": "ipython3",
   "version": "3.5.2"
  }
 },
 "nbformat": 4,
 "nbformat_minor": 2
}
